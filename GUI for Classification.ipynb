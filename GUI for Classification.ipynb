{
 "cells": [
  {
   "cell_type": "code",
   "execution_count": null,
   "id": "6b9448d4",
   "metadata": {},
   "outputs": [
    {
     "name": "stdout",
     "output_type": "stream",
     "text": [
      "1/1 [==============================] - 0s 152ms/step\n"
     ]
    }
   ],
   "source": [
    "import tkinter as tk\n",
    "from tkinter import filedialog\n",
    "from PIL import Image, ImageTk\n",
    "import numpy as np\n",
    "from tensorflow.keras import models\n",
    "cnn = models.load_model('Image_classify.keras')\n",
    "classes = [\"airplane\", \"automobile\", \"bird\", \"cat\", \"deer\", \"dog\", \"frog\", \"horse\", \"ship\", \"truck\"]\n",
    "def classify_image(file_path):\n",
    "    image = Image.open(file_path)\n",
    "    image = image.resize((32, 32))  \n",
    "    image = np.array(image) / 255.0  \n",
    "    image = np.expand_dims(image, axis=0)  \n",
    "    prediction = cnn.predict(image)\n",
    "    predicted_class = np.argmax(prediction)\n",
    "    result_label.config(text=f\"Predicted Class: {classes[predicted_class]}\")\n",
    "def open_file_dialog():\n",
    "    file_path = filedialog.askopenfilename(filetypes=[(\"All files\", \"*.*\")])\n",
    "    if file_path:\n",
    "        classify_image(file_path)\n",
    "        display_image(file_path)\n",
    "def display_image(file_path):\n",
    "    image = Image.open(file_path)\n",
    "    image = image.resize((200, 200))\n",
    "    photo = ImageTk.PhotoImage(image)\n",
    "    canvas.config(width=photo.width(), height=photo.height())\n",
    "    canvas.create_image(0, 0, anchor=tk.NW, image=photo)\n",
    "    canvas.image = photo\n",
    "root = tk.Tk()\n",
    "root.title(\"Image Classifier\")\n",
    "browse_button = tk.Button(root, text=\"Browse\", command=open_file_dialog)\n",
    "browse_button.pack(pady=10)\n",
    "canvas = tk.Canvas(root, width=200, height=200)\n",
    "canvas.pack()\n",
    "result_label = tk.Label(root, text=\"\")\n",
    "result_label.pack(pady=10)\n",
    "root.mainloop()"
   ]
  },
  {
   "cell_type": "code",
   "execution_count": null,
   "id": "572baf19",
   "metadata": {},
   "outputs": [],
   "source": []
  }
 ],
 "metadata": {
  "kernelspec": {
   "display_name": "Python 3 (ipykernel)",
   "language": "python",
   "name": "python3"
  },
  "language_info": {
   "codemirror_mode": {
    "name": "ipython",
    "version": 3
   },
   "file_extension": ".py",
   "mimetype": "text/x-python",
   "name": "python",
   "nbconvert_exporter": "python",
   "pygments_lexer": "ipython3",
   "version": "3.11.5"
  }
 },
 "nbformat": 4,
 "nbformat_minor": 5
}
